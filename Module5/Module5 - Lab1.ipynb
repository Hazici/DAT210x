{
 "cells": [
  {
   "cell_type": "markdown",
   "metadata": {},
   "source": [
    "# DAT210x - Programming with Python for DS"
   ]
  },
  {
   "cell_type": "markdown",
   "metadata": {},
   "source": [
    "## Module5- Lab1"
   ]
  },
  {
   "cell_type": "markdown",
   "metadata": {
    "collapsed": true
   },
   "source": [
    "Start by importing whatever you need to import in order to make this lab work:"
   ]
  },
  {
   "cell_type": "code",
   "execution_count": 29,
   "metadata": {
    "collapsed": true
   },
   "outputs": [],
   "source": [
    "import pandas as pd\n",
    "import numpy as np\n",
    "\n",
    "import matplotlib.pyplot as plt\n",
    "import matplotlib\n",
    "\n",
    "from sklearn.cluster import KMeans"
   ]
  },
  {
   "cell_type": "markdown",
   "metadata": {
    "collapsed": true
   },
   "source": [
    "### How to Get The Dataset"
   ]
  },
  {
   "cell_type": "markdown",
   "metadata": {
    "collapsed": true
   },
   "source": [
    "1. Open up the City of Chicago's [Open Data | Crimes](https://data.cityofchicago.org/Public-Safety/Crimes-2001-to-present/ijzp-q8t2) page.\n",
    "1. In the `Primary Type` column, click on the `Menu` button next to the info button, and select `Filter This Column`. It might take a second for the filter option to show up, since it has to load the entire list first.\n",
    "1. Scroll down to `GAMBLING`\n",
    "1. Click the light blue `Export` button next to the `Filter` button, and select `Download As CSV`"
   ]
  },
  {
   "cell_type": "markdown",
   "metadata": {},
   "source": [
    "Now that you have th dataset stored as a CSV, load it up being careful to double check headers, as per usual:"
   ]
  },
  {
   "cell_type": "code",
   "execution_count": 11,
   "metadata": {},
   "outputs": [
    {
     "data": {
      "text/html": [
       "<div>\n",
       "<style>\n",
       "    .dataframe thead tr:only-child th {\n",
       "        text-align: right;\n",
       "    }\n",
       "\n",
       "    .dataframe thead th {\n",
       "        text-align: left;\n",
       "    }\n",
       "\n",
       "    .dataframe tbody tr th {\n",
       "        vertical-align: top;\n",
       "    }\n",
       "</style>\n",
       "<table border=\"1\" class=\"dataframe\">\n",
       "  <thead>\n",
       "    <tr style=\"text-align: right;\">\n",
       "      <th></th>\n",
       "      <th>Date</th>\n",
       "      <th>Block</th>\n",
       "      <th>IUCR</th>\n",
       "      <th>Primary Type</th>\n",
       "      <th>Description</th>\n",
       "      <th>Location Description</th>\n",
       "      <th>Arrest</th>\n",
       "      <th>Domestic</th>\n",
       "      <th>Beat</th>\n",
       "      <th>Ward</th>\n",
       "      <th>FBI Code</th>\n",
       "      <th>X Coordinate</th>\n",
       "      <th>Y Coordinate</th>\n",
       "      <th>Year</th>\n",
       "      <th>Latitude</th>\n",
       "      <th>Longitude</th>\n",
       "      <th>Location</th>\n",
       "    </tr>\n",
       "    <tr>\n",
       "      <th>Case Number</th>\n",
       "      <th></th>\n",
       "      <th></th>\n",
       "      <th></th>\n",
       "      <th></th>\n",
       "      <th></th>\n",
       "      <th></th>\n",
       "      <th></th>\n",
       "      <th></th>\n",
       "      <th></th>\n",
       "      <th></th>\n",
       "      <th></th>\n",
       "      <th></th>\n",
       "      <th></th>\n",
       "      <th></th>\n",
       "      <th></th>\n",
       "      <th></th>\n",
       "      <th></th>\n",
       "    </tr>\n",
       "  </thead>\n",
       "  <tbody>\n",
       "    <tr>\n",
       "      <th>HM172874</th>\n",
       "      <td>02/09/2006 10:29:07 PM</td>\n",
       "      <td>075XX S COLFAX AVE</td>\n",
       "      <td>1661</td>\n",
       "      <td>GAMBLING</td>\n",
       "      <td>GAME/DICE</td>\n",
       "      <td>SIDEWALK</td>\n",
       "      <td>True</td>\n",
       "      <td>False</td>\n",
       "      <td>421</td>\n",
       "      <td>7.0</td>\n",
       "      <td>19</td>\n",
       "      <td>1194833.0</td>\n",
       "      <td>1855572.0</td>\n",
       "      <td>2006</td>\n",
       "      <td>41.758607</td>\n",
       "      <td>-87.561511</td>\n",
       "      <td>(41.758607126, -87.561510616)</td>\n",
       "    </tr>\n",
       "    <tr>\n",
       "      <th>HM157167</th>\n",
       "      <td>02/01/2006 12:30:27 PM</td>\n",
       "      <td>038XX W FERDINAND ST</td>\n",
       "      <td>1661</td>\n",
       "      <td>GAMBLING</td>\n",
       "      <td>GAME/DICE</td>\n",
       "      <td>SIDEWALK</td>\n",
       "      <td>True</td>\n",
       "      <td>False</td>\n",
       "      <td>1122</td>\n",
       "      <td>27.0</td>\n",
       "      <td>19</td>\n",
       "      <td>1150871.0</td>\n",
       "      <td>1903067.0</td>\n",
       "      <td>2006</td>\n",
       "      <td>41.889909</td>\n",
       "      <td>-87.721389</td>\n",
       "      <td>(41.889909247, -87.721389051)</td>\n",
       "    </tr>\n",
       "    <tr>\n",
       "      <th>HM159623</th>\n",
       "      <td>02/02/2006 07:02:12 PM</td>\n",
       "      <td>050XX W SUPERIOR ST</td>\n",
       "      <td>1661</td>\n",
       "      <td>GAMBLING</td>\n",
       "      <td>GAME/DICE</td>\n",
       "      <td>SIDEWALK</td>\n",
       "      <td>True</td>\n",
       "      <td>False</td>\n",
       "      <td>1531</td>\n",
       "      <td>28.0</td>\n",
       "      <td>19</td>\n",
       "      <td>1142605.0</td>\n",
       "      <td>1904502.0</td>\n",
       "      <td>2006</td>\n",
       "      <td>41.894005</td>\n",
       "      <td>-87.751710</td>\n",
       "      <td>(41.89400481, -87.751710086)</td>\n",
       "    </tr>\n",
       "    <tr>\n",
       "      <th>HM158020</th>\n",
       "      <td>02/01/2006 08:13:00 PM</td>\n",
       "      <td>056XX W WASHINGTON BLVD</td>\n",
       "      <td>1661</td>\n",
       "      <td>GAMBLING</td>\n",
       "      <td>GAME/DICE</td>\n",
       "      <td>RESIDENCE PORCH/HALLWAY</td>\n",
       "      <td>True</td>\n",
       "      <td>False</td>\n",
       "      <td>1512</td>\n",
       "      <td>29.0</td>\n",
       "      <td>19</td>\n",
       "      <td>1138430.0</td>\n",
       "      <td>1900175.0</td>\n",
       "      <td>2006</td>\n",
       "      <td>41.882208</td>\n",
       "      <td>-87.767149</td>\n",
       "      <td>(41.882207608, -87.767148598)</td>\n",
       "    </tr>\n",
       "    <tr>\n",
       "      <th>HM156984</th>\n",
       "      <td>02/01/2006 10:10:00 AM</td>\n",
       "      <td>015XX W 72ND ST</td>\n",
       "      <td>1661</td>\n",
       "      <td>GAMBLING</td>\n",
       "      <td>GAME/DICE</td>\n",
       "      <td>SIDEWALK</td>\n",
       "      <td>True</td>\n",
       "      <td>False</td>\n",
       "      <td>734</td>\n",
       "      <td>17.0</td>\n",
       "      <td>19</td>\n",
       "      <td>1167231.0</td>\n",
       "      <td>1856980.0</td>\n",
       "      <td>2006</td>\n",
       "      <td>41.763106</td>\n",
       "      <td>-87.662629</td>\n",
       "      <td>(41.763105901, -87.66262925)</td>\n",
       "    </tr>\n",
       "  </tbody>\n",
       "</table>\n",
       "</div>"
      ],
      "text/plain": [
       "                               Date                    Block  IUCR  \\\n",
       "Case Number                                                          \n",
       "HM172874     02/09/2006 10:29:07 PM       075XX S COLFAX AVE  1661   \n",
       "HM157167     02/01/2006 12:30:27 PM     038XX W FERDINAND ST  1661   \n",
       "HM159623     02/02/2006 07:02:12 PM      050XX W SUPERIOR ST  1661   \n",
       "HM158020     02/01/2006 08:13:00 PM  056XX W WASHINGTON BLVD  1661   \n",
       "HM156984     02/01/2006 10:10:00 AM          015XX W 72ND ST  1661   \n",
       "\n",
       "            Primary Type Description     Location Description  Arrest  \\\n",
       "Case Number                                                             \n",
       "HM172874        GAMBLING   GAME/DICE                 SIDEWALK    True   \n",
       "HM157167        GAMBLING   GAME/DICE                 SIDEWALK    True   \n",
       "HM159623        GAMBLING   GAME/DICE                 SIDEWALK    True   \n",
       "HM158020        GAMBLING   GAME/DICE  RESIDENCE PORCH/HALLWAY    True   \n",
       "HM156984        GAMBLING   GAME/DICE                 SIDEWALK    True   \n",
       "\n",
       "             Domestic  Beat  Ward  FBI Code  X Coordinate  Y Coordinate  Year  \\\n",
       "Case Number                                                                     \n",
       "HM172874        False   421   7.0        19     1194833.0     1855572.0  2006   \n",
       "HM157167        False  1122  27.0        19     1150871.0     1903067.0  2006   \n",
       "HM159623        False  1531  28.0        19     1142605.0     1904502.0  2006   \n",
       "HM158020        False  1512  29.0        19     1138430.0     1900175.0  2006   \n",
       "HM156984        False   734  17.0        19     1167231.0     1856980.0  2006   \n",
       "\n",
       "              Latitude  Longitude                       Location  \n",
       "Case Number                                                       \n",
       "HM172874     41.758607 -87.561511  (41.758607126, -87.561510616)  \n",
       "HM157167     41.889909 -87.721389  (41.889909247, -87.721389051)  \n",
       "HM159623     41.894005 -87.751710   (41.89400481, -87.751710086)  \n",
       "HM158020     41.882208 -87.767149  (41.882207608, -87.767148598)  \n",
       "HM156984     41.763106 -87.662629   (41.763105901, -87.66262925)  "
      ]
     },
     "execution_count": 11,
     "metadata": {},
     "output_type": "execute_result"
    }
   ],
   "source": [
    "df = pd.read_csv('./Datasets/crimes.csv', index_col=0)\n",
    "df.head()"
   ]
  },
  {
   "cell_type": "markdown",
   "metadata": {},
   "source": [
    "Get rid of any _rows_ that have nans in them:"
   ]
  },
  {
   "cell_type": "code",
   "execution_count": 12,
   "metadata": {
    "collapsed": true
   },
   "outputs": [],
   "source": [
    "df = df.dropna()"
   ]
  },
  {
   "cell_type": "code",
   "execution_count": 13,
   "metadata": {},
   "outputs": [
    {
     "data": {
      "text/plain": [
       "(13004, 17)"
      ]
     },
     "execution_count": 13,
     "metadata": {},
     "output_type": "execute_result"
    }
   ],
   "source": [
    "df.shape"
   ]
  },
  {
   "cell_type": "markdown",
   "metadata": {},
   "source": [
    "Display the `dtypes` of your dset:"
   ]
  },
  {
   "cell_type": "code",
   "execution_count": 16,
   "metadata": {},
   "outputs": [
    {
     "data": {
      "text/plain": [
       "Date                    datetime64[ns]\n",
       "Block                           object\n",
       "IUCR                             int64\n",
       "Primary Type                    object\n",
       "Description                     object\n",
       "Location Description            object\n",
       "Arrest                            bool\n",
       "Domestic                          bool\n",
       "Beat                             int64\n",
       "Ward                           float64\n",
       "FBI Code                         int64\n",
       "X Coordinate                   float64\n",
       "Y Coordinate                   float64\n",
       "Year                             int64\n",
       "Latitude                       float64\n",
       "Longitude                      float64\n",
       "Location                        object\n",
       "dtype: object"
      ]
     },
     "execution_count": 16,
     "metadata": {},
     "output_type": "execute_result"
    }
   ],
   "source": [
    "df.dtypes"
   ]
  },
  {
   "cell_type": "markdown",
   "metadata": {},
   "source": [
    "Coerce the `Date` feature (which is currently a string object) into real date, and confirm by displaying the `dtypes` again. This might be a slow executing process..."
   ]
  },
  {
   "cell_type": "code",
   "execution_count": 15,
   "metadata": {
    "collapsed": true
   },
   "outputs": [],
   "source": [
    "df['Date'] = pd.to_datetime(df['Date'] , errors='coerce')"
   ]
  },
  {
   "cell_type": "code",
   "execution_count": 32,
   "metadata": {},
   "outputs": [],
   "source": [
    "def doKMeans(df):\n",
    "    # Let's plot your data with a '.' marker, a 0.3 alpha at the Longitude,\n",
    "    # and Latitude locations in your dataset. Longitude = x, Latitude = y\n",
    "    fig = plt.figure()\n",
    "    ax = fig.add_subplot(111)\n",
    "    ax.scatter(df.Longitude, df.Latitude, marker='.', alpha=0.3)\n",
    "\n",
    "    \n",
    "    # TODO: Filter `df` using indexing so it only contains Longitude and Latitude,\n",
    "    # since the remaining columns aren't really applicable for this lab:\n",
    "    #\n",
    "    df = df.loc[:,['Longitude','Latitude']]\n",
    "\n",
    "\n",
    "    # TODO: Use K-Means to try and find seven cluster centers in this df.\n",
    "    # Be sure to name your kmeans model `model` so that the printing works.\n",
    "    #\n",
    "    model = KMeans(n_clusters=7)\n",
    "    model.fit(df)\n",
    "\n",
    "\n",
    "    # Now we can print and plot the centroids:\n",
    "    centroids = model.cluster_centers_\n",
    "    print(centroids)\n",
    "    ax.scatter(centroids[:,0], centroids[:,1], marker='x', c='red', alpha=0.5, linewidths=3, s=169)\n",
    "    plt.show()"
   ]
  },
  {
   "cell_type": "code",
   "execution_count": 39,
   "metadata": {},
   "outputs": [
    {
     "name": "stdout",
     "output_type": "stream",
     "text": [
      "[[-87.75480142  41.88985386]\n",
      " [-87.6349544   41.7055019 ]\n",
      " [-87.6649696   41.7756854 ]\n",
      " [-87.58020176  41.7504627 ]\n",
      " [-87.68692804  41.98387683]\n",
      " [-87.61916277  41.7917633 ]\n",
      " [-87.71061917  41.87537947]]\n"
     ]
    },
    {
     "data": {
      "image/png": "[encoded data removed]",
      "text/plain": [
       "<matplotlib.figure.Figure at 0xd471198>"
      ]
     },
     "metadata": {},
     "output_type": "display_data"
    }
   ],
   "source": [
    "# Print & Plot your data\n",
    "doKMeans(df)"
   ]
  },
  {
   "cell_type": "markdown",
   "metadata": {},
   "source": [
    "Filter out the data so that it only contains samples that have a `Date > '2011-01-01'`, using indexing. Then, in a new figure, plot the crime incidents, as well as a new K-Means run's centroids."
   ]
  },
  {
   "cell_type": "code",
   "execution_count": 35,
   "metadata": {
    "collapsed": true
   },
   "outputs": [],
   "source": [
    "df = pd.read_csv('./Datasets/crimes.csv', index_col=0)\n",
    "df = df.dropna()\n",
    "df['Date'] = pd.to_datetime(df['Date'] , errors='coerce')"
   ]
  },
  {
   "cell_type": "code",
   "execution_count": 37,
   "metadata": {},
   "outputs": [],
   "source": [
    "df = df[df['Date']>'2011-01-01']"
   ]
  },
  {
   "cell_type": "code",
   "execution_count": 43,
   "metadata": {},
   "outputs": [
    {
     "name": "stdout",
     "output_type": "stream",
     "text": [
      "[[-87.71061917  41.87537947]\n",
      " [-87.6349544   41.7055019 ]\n",
      " [-87.75480142  41.88985386]\n",
      " [-87.61886508  41.79203914]\n",
      " [-87.6647826   41.77567273]\n",
      " [-87.58020176  41.7504627 ]\n",
      " [-87.68692804  41.98387683]]\n"
     ]
    },
    {
     "data": {
      "image/png": "[encoded data removed]",
      "text/plain": [
       "<matplotlib.figure.Figure at 0xd479828>"
      ]
     },
     "metadata": {},
     "output_type": "display_data"
    }
   ],
   "source": [
    "# Print & Plot your data\n",
    "doKMeans(df)"
   ]
  },
  {
   "cell_type": "code",
   "execution_count": null,
   "metadata": {
    "collapsed": true
   },
   "outputs": [],
   "source": []
  }
 ],
 "metadata": {
  "anaconda-cloud": {},
  "kernelspec": {
   "display_name": "Python 3",
   "language": "python",
   "name": "python3"
  },
  "language_info": {
   "codemirror_mode": {
    "name": "ipython",
    "version": 3
   },
   "file_extension": ".py",
   "mimetype": "text/x-python",
   "name": "python",
   "nbconvert_exporter": "python",
   "pygments_lexer": "ipython3",
   "version": "3.6.3"
  },
  "toc": {
   "colors": {
    "hover_highlight": "#DAA520",
    "running_highlight": "#FF0000",
    "selected_highlight": "#FFD700"
   },
   "moveMenuLeft": true,
   "nav_menu": {
    "height": "58px",
    "width": "252px"
   },
   "navigate_menu": true,
   "number_sections": true,
   "sideBar": true,
   "threshold": 4,
   "toc_cell": false,
   "toc_section_display": "block",
   "toc_window_display": false,
   "widenNotebook": false
  }
 },
 "nbformat": 4,
 "nbformat_minor": 2
}
